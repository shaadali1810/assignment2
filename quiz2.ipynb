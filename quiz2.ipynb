{
 "cells": [
  {
   "cell_type": "code",
   "execution_count": 1,
   "id": "566f6696-d1a9-4d37-aa6a-c9907c3bfdce",
   "metadata": {},
   "outputs": [
    {
     "name": "stdin",
     "output_type": "stream",
     "text": [
      "enter your marks 65\n"
     ]
    },
    {
     "name": "stdout",
     "output_type": "stream",
     "text": [
      "your grade is C\n"
     ]
    }
   ],
   "source": [
    "marks = int(input(\"enter your marks\"))\n",
    "if marks >= 90:\n",
    "    print(\"your grade is A\")\n",
    "elif marks >= 80:\n",
    "    print(\"your grade is B\")\n",
    "elif marks >= 60:\n",
    "    print(\"your grade is C\")\n",
    "else:\n",
    "    print(\"your grade is D\")"
   ]
  },
  {
   "cell_type": "code",
   "execution_count": 3,
   "id": "ac748f39-3773-42fb-88f4-2c77a49a05d5",
   "metadata": {},
   "outputs": [
    {
     "name": "stdin",
     "output_type": "stream",
     "text": [
      "enter your income 500\n"
     ]
    },
    {
     "name": "stdout",
     "output_type": "stream",
     "text": [
      "your tax will be 5%\n"
     ]
    }
   ],
   "source": [
    "tax = int(input(\"enter your income\"))\n",
    "if tax >= 100000:\n",
    "    print(\"your tax will be 15%\")\n",
    "elif tax >= 50000:\n",
    "    print(\"your tax will be 10%\")\n",
    "else:\n",
    "    print(\"your tax will be 5%\")"
   ]
  },
  {
   "cell_type": "code",
   "execution_count": 10,
   "id": "a4e7a73c-3209-4ffb-bdb8-6bde0db6a24e",
   "metadata": {},
   "outputs": [
    {
     "name": "stdin",
     "output_type": "stream",
     "text": [
      "enter your monument  redfort\n"
     ]
    },
    {
     "ename": "NameError",
     "evalue": "name 'redfort' is not defined",
     "output_type": "error",
     "traceback": [
      "\u001b[0;31m---------------------------------------------------------------------------\u001b[0m",
      "\u001b[0;31mNameError\u001b[0m                                 Traceback (most recent call last)",
      "Cell \u001b[0;32mIn[10], line 2\u001b[0m\n\u001b[1;32m      1\u001b[0m monument \u001b[38;5;241m=\u001b[39m \u001b[38;5;28minput\u001b[39m(\u001b[38;5;124m\"\u001b[39m\u001b[38;5;124menter your monument \u001b[39m\u001b[38;5;124m\"\u001b[39m)\n\u001b[0;32m----> 2\u001b[0m \u001b[38;5;28;01mif\u001b[39;00m monument \u001b[38;5;241m==\u001b[39m \u001b[43mredfort\u001b[49m:\n\u001b[1;32m      3\u001b[0m     \u001b[38;5;28mprint\u001b[39m(\u001b[38;5;124m\"\u001b[39m\u001b[38;5;124myour city is delhi\u001b[39m\u001b[38;5;124m\"\u001b[39m)\n\u001b[1;32m      4\u001b[0m \u001b[38;5;28;01melif\u001b[39;00m monument \u001b[38;5;241m==\u001b[39m tajmahal:\n",
      "\u001b[0;31mNameError\u001b[0m: name 'redfort' is not defined"
     ]
    }
   ],
   "source": [
    "monument = input(\"enter your monument \")\n",
    "if monument == redfort:\n",
    "    print(\"your city is delhi\")\n",
    "elif monument == tajmahal:\n",
    "    print(\"your city is agra\")\n",
    "elif monument == jalmahal:\n",
    "    print(\"your city is jaipur\")\n",
    "else:\n",
    "    print(\"your city is not avaialable in list\")"
   ]
  },
  {
   "cell_type": "code",
   "execution_count": 12,
   "id": "10969b21-3e2c-46a6-b32b-4d999a0453ec",
   "metadata": {},
   "outputs": [
    {
     "name": "stdout",
     "output_type": "stream",
     "text": [
      "[3]\n",
      "[6]\n",
      "[9]\n"
     ]
    }
   ],
   "source": [
    "for i in range(1,11):\n",
    "    if i%3==0:\n",
    "        print([i])"
   ]
  },
  {
   "cell_type": "code",
   "execution_count": 18,
   "id": "9d2ddf5e-77a9-4c7f-a64f-56208ef1d2ec",
   "metadata": {},
   "outputs": [
    {
     "name": "stdout",
     "output_type": "stream",
     "text": [
      "0\n",
      "1\n",
      "2\n",
      "3\n",
      "4\n",
      "5\n",
      "6\n",
      "7\n",
      "8\n",
      "9\n",
      "10\n"
     ]
    }
   ],
   "source": [
    "#With the while loop we can execute a set of statements as long as a condition is true\n",
    "\n",
    "i = 0 \n",
    "n = 10 \n",
    "while i<=n:\n",
    "    print(i)\n",
    "    i = i+1\n",
    "        "
   ]
  },
  {
   "cell_type": "code",
   "execution_count": 22,
   "id": "d51e8cbf-8e5a-49c5-9539-3b2d775918fe",
   "metadata": {},
   "outputs": [
    {
     "name": "stdin",
     "output_type": "stream",
     "text": [
      "enter your row 5\n"
     ]
    },
    {
     "name": "stdout",
     "output_type": "stream",
     "text": [
      "*1\n",
      "**2\n",
      "***3\n",
      "****4\n",
      "*****5\n"
     ]
    }
   ],
   "source": [
    "n = int(input(\"enter your row\"))\n",
    "i = 1\n",
    "\n",
    "while i<=n:\n",
    "    j = 1\n",
    "    while j<=i:\n",
    "        print(\"*\",end = \"\")\n",
    "        j +=1\n",
    "    print(i)\n",
    "    i +=1\n",
    "        \n",
    "    "
   ]
  },
  {
   "cell_type": "code",
   "execution_count": null,
   "id": "3bc2b3bf-c2b1-4e3d-933c-476eb05b3e52",
   "metadata": {},
   "outputs": [],
   "source": [
    "i = 10\n",
    "n = 1\n",
    "while i <= n:\n",
    "    print(i)\n",
    "    i = i-1"
   ]
  },
  {
   "cell_type": "code",
   "execution_count": null,
   "id": "39726482-293e-42c9-a224-89f4b37d31e6",
   "metadata": {},
   "outputs": [],
   "source": []
  }
 ],
 "metadata": {
  "kernelspec": {
   "display_name": "Python 3 (ipykernel)",
   "language": "python",
   "name": "python3"
  },
  "language_info": {
   "codemirror_mode": {
    "name": "ipython",
    "version": 3
   },
   "file_extension": ".py",
   "mimetype": "text/x-python",
   "name": "python",
   "nbconvert_exporter": "python",
   "pygments_lexer": "ipython3",
   "version": "3.10.8"
  }
 },
 "nbformat": 4,
 "nbformat_minor": 5
}
